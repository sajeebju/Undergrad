{
  "nbformat": 4,
  "nbformat_minor": 0,
  "metadata": {
    "kernelspec": {
      "display_name": "Python 3",
      "language": "python",
      "name": "python3"
    },
    "language_info": {
      "codemirror_mode": {
        "name": "ipython",
        "version": 3
      },
      "file_extension": ".py",
      "mimetype": "text/x-python",
      "name": "python",
      "nbconvert_exporter": "python",
      "pygments_lexer": "ipython3",
      "version": "3.8.3"
    },
    "colab": {
      "name": "oop_python.ipynb",
      "provenance": [],
      "collapsed_sections": [],
      "include_colab_link": true
    }
  },
  "cells": [
    {
      "cell_type": "markdown",
      "metadata": {
        "id": "view-in-github",
        "colab_type": "text"
      },
      "source": [
        "<a href=\"https://colab.research.google.com/github/sajeebju/Undergrad/blob/main/oop_python.ipynb\" target=\"_parent\"><img src=\"https://colab.research.google.com/assets/colab-badge.svg\" alt=\"Open In Colab\"/></a>"
      ]
    },
    {
      "cell_type": "code",
      "metadata": {
        "id": "M_ow24Qa1U4V",
        "colab": {
          "base_uri": "https://localhost:8080/"
        },
        "outputId": "cfbccc83-b4c6-4bb2-ddb6-b7047c0b00e1"
      },
      "source": [
        "class Employee:\n",
        "    \n",
        "    raise_amt = 1.04\n",
        "    \n",
        "    def __init__(self, first, last, pay):\n",
        "        self.first = first\n",
        "        self.last = last\n",
        "        self.email = first + '.' + last + \"@gmail.com\"\n",
        "        self.pay = pay\n",
        "        \n",
        "    def fullname(self):\n",
        "        \n",
        "        return '{} {}'.format(self.first, self.last)\n",
        "    \n",
        "    def apply_raise(self):\n",
        "        self.pay = int(self.pay + self.raise_amt)\n",
        "        \n",
        "        \n",
        "    def __repr__(self):\n",
        "        \n",
        "        return \"Employee('{}', {}, {})\".format(self.first, self.last, self.pay)\n",
        "        \n",
        "        \n",
        "    \n",
        "    def __str__(self):\n",
        "        \n",
        "        return '{} - {}'.format(self.fullname(), self.email)\n",
        "        \n",
        "emp1 = Employee('ahasan', 'sajeeb', 50000)\n",
        "print(emp1.fullname())\n",
        "print(emp1.apply_raise())\n",
        "\n",
        " \n",
        "print(repr(emp1))\n",
        "print(str(emp1))"
      ],
      "execution_count": null,
      "outputs": [
        {
          "output_type": "stream",
          "name": "stdout",
          "text": [
            "ahasan sajeeb\n",
            "None\n",
            "Employee('ahasan', sajeeb, 50001)\n",
            "ahasan sajeeb - ahasan.sajeeb@gmail.com\n"
          ]
        }
      ]
    },
    {
      "cell_type": "code",
      "metadata": {
        "id": "RdJ9sITj1U4Z",
        "outputId": "d4c1ecb9-51b8-4607-87bf-7f417bc84b13"
      },
      "source": [
        "class get_lst:\n",
        "    \n",
        "    def __init__(self):\n",
        "        \n",
        "        member = [\n",
        "            \n",
        "            \n",
        "            'a',\n",
        "            'b',\n",
        "            'c',\n",
        "            'd',\n",
        "            'e',\n",
        "            'f'\n",
        "        ]\n",
        "        \n",
        "    def __len__(self):\n",
        "        \n",
        "        return len(self.member)\n",
        "    \n",
        "o1 = get_lst()\n",
        "\n",
        "print(o1)"
      ],
      "execution_count": null,
      "outputs": [
        {
          "name": "stdout",
          "output_type": "stream",
          "text": [
            "<__main__.get_lst object at 0x7fd0d0276ee0>\n"
          ]
        }
      ]
    },
    {
      "cell_type": "code",
      "metadata": {
        "id": "Mcatz9TL1U4a",
        "outputId": "608a7d6b-890e-4848-ae9e-6492aedc3070"
      },
      "source": [
        "class Employee:\n",
        "    \n",
        "    raise_amt = 1.04\n",
        "    \n",
        "    def __init__(self, first, last, pay):\n",
        "        \n",
        "        self.first = first\n",
        "        self.last = last\n",
        "        self.email = self.first + '.' + self.last + '@email.com'\n",
        "        self.pay = pay\n",
        "        \n",
        "        \n",
        "    def fullname(self):\n",
        "        \n",
        "        return '{} {} with salary {}'.format(self.first, self.last, self.pay)\n",
        "    \n",
        "    \n",
        "    def __repr__(self):\n",
        "        return '{} {} , {}'.format(self.first, self.last, self.pay)\n",
        "    \n",
        "    \n",
        "    def __str__(self):\n",
        "        return '{} - {}'.format(self.fullname(), self.email)\n",
        "    \n",
        "    def full(self):\n",
        "        \n",
        "        return '{} - {}'.format(self.fullname(), self.email)\n",
        "    \n",
        "    def __add__(self, other):\n",
        "        \n",
        "        return self.pay + other.pay\n",
        "    \n",
        "    def __sub__(self, other):\n",
        "        \n",
        "        return self.pay - other.pay\n",
        "    \n",
        "    def __mul__(self, other):\n",
        "        \n",
        "        return self.pay * other.pay\n",
        "    \n",
        "    def __len__(self):\n",
        "        return len(self.fullname())\n",
        "    \n",
        "    \n",
        "emp_1 = Employee('ahasan', 'sajeeb', 50000)\n",
        "emp_2 = Employee('eema', 'fatim', 60000)\n",
        "\n",
        "print(emp_1 + emp_2)\n",
        "print(emp_2 - emp_1)\n",
        "\n",
        "print(emp_1 * emp_2)\n",
        "\n",
        "\n",
        "print('test'.__len__())\n",
        " \n",
        "print(len(emp_1))"
      ],
      "execution_count": null,
      "outputs": [
        {
          "name": "stdout",
          "output_type": "stream",
          "text": [
            "110000\n",
            "10000\n",
            "3000000000\n",
            "4\n",
            "31\n"
          ]
        }
      ]
    },
    {
      "cell_type": "code",
      "metadata": {
        "id": "BntfKhxL1U4d",
        "outputId": "45733bc9-78b1-4b8a-b7f5-99bc5938ce54"
      },
      "source": [
        "class Employee:\n",
        "    \n",
        "    def __init__(self, first, last):\n",
        "        self.first = first\n",
        "        self.last = last\n",
        "         \n",
        "        \n",
        "    @property   \n",
        "    def email(self):\n",
        "        \n",
        "        return '{}.{}@email.com'.format(self.first, self.last)\n",
        "     \n",
        "    @property\n",
        "    def fullname(self):\n",
        "        \n",
        "        return '{} {}'.format(self.first, self.last)\n",
        "    \n",
        "    \n",
        "    @fullname.setter\n",
        "    def fullname(self, name):\n",
        "        first, last = name.split(' ')\n",
        "        self.first = first\n",
        "        self.last = last\n",
        "        \n",
        "        \n",
        "        \n",
        "    @fullname.deleter\n",
        "    def fullname(self):\n",
        "        print('Delete Name!')\n",
        "        self.first = None\n",
        "        self.last = None\n",
        "         \n",
        "    \n",
        "emp_1 = Employee('ahasan', 'sajeeb')\n",
        "\n",
        "emp_1.fullname = 'Jim Morrison'\n",
        "\n",
        " \n",
        "\n",
        "print(emp_1.first)\n",
        "print(emp_1.email)\n",
        "print(emp_1.fullname)\n",
        "\n",
        "del emp_1.fullname"
      ],
      "execution_count": null,
      "outputs": [
        {
          "name": "stdout",
          "output_type": "stream",
          "text": [
            "Jim\n",
            "Jim.Morrison@email.com\n",
            "Jim Morrison\n",
            "Delete Name!\n"
          ]
        }
      ]
    },
    {
      "cell_type": "code",
      "metadata": {
        "id": "aP5BAt5_1U4e",
        "outputId": "4961692d-6907-460e-8911-d125872f3f74"
      },
      "source": [
        "class Employee:\n",
        "    \n",
        "    raise_amt = 1.04\n",
        "    \n",
        "    def __init__(self, first, last, pay):\n",
        "        self.first = first\n",
        "        self.last = last\n",
        "        self.email = first + \".\" + last + '@email.com'\n",
        "        self.pay = pay\n",
        "        \n",
        "    def fullname(self):\n",
        "        return '{} {}'.format(self.first, self.last)\n",
        "    \n",
        "    def apply_raise(self):\n",
        "        self.pay = int(self.pay * self.raise_amt)\n",
        "        \n",
        "class Developer(Employee):\n",
        "    raise_amt = 1.0\n",
        "    \n",
        "    def __init__(self, first, last, pay, prog_lang):\n",
        "        super().__init__(first, last, pay)\n",
        "        self.prog_lang = prog_lang\n",
        "        \n",
        "class Manager(Employee):\n",
        "    \n",
        "    def __init__(self, first, last, pay, employees = None):\n",
        "        super().__init__(first, last, pay)\n",
        "        if employees is None:\n",
        "            self.employees = []\n",
        "        else:\n",
        "            \n",
        "            self.employees = employees\n",
        "            \n",
        "    def add_emp(self, emp):\n",
        "        if emp not in self.employees:\n",
        "            self.employees.append(emp)\n",
        "            \n",
        "    def remove_emp(self, emp):\n",
        "        if emp in self.employees:\n",
        "            self.employees.remove(emp)\n",
        "            \n",
        "    def print_emps(self):\n",
        "        for emp in self.employees:\n",
        "            print('-->', emp.fullname())\n",
        "        \n",
        "dev_1 = Developer('Ahasan', 'Habib', 50000, 'python')\n",
        "dev_2 = Developer('Test', 'Employee', 60000, 'java')\n",
        "\n",
        "mgr_1 = Manager('Sue', 'Smith', 90000, [dev_1])\n",
        "\n",
        "print(mgr_1.email)\n",
        " \n",
        "mgr_1.add_emp(dev_2)\n",
        "\n",
        "print(mgr_1.fullname())"
      ],
      "execution_count": null,
      "outputs": [
        {
          "name": "stdout",
          "output_type": "stream",
          "text": [
            "Sue.Smith@email.com\n",
            "Sue Smith\n"
          ]
        }
      ]
    },
    {
      "cell_type": "code",
      "metadata": {
        "id": "-yGHkSzk1U4q",
        "colab": {
          "base_uri": "https://localhost:8080/"
        },
        "outputId": "d4c46275-d0b6-408b-bd83-2b9465d9a0e9"
      },
      "source": [
        "class bank_record: \n",
        "      \n",
        "    def __init__(self, name): \n",
        "          \n",
        "        self.record = { \n",
        "                        \"name\": name, \n",
        "                        \"balance\": 100, \n",
        "                        \"transaction\":[100] \n",
        "                        } \n",
        "  \n",
        "    def __getitem__(self, key): \n",
        "          \n",
        "        return self.record[key] \n",
        "  \n",
        "    def __setitem__(self, key, newvalue): \n",
        "          \n",
        "        if key ==\"balance\" and newvalue != None and newvalue>= 100: \n",
        "            self.record[key] += newvalue \n",
        "              \n",
        "        elif key ==\"transaction\" and newvalue != None: \n",
        "            self.record[key].append(newvalue) \n",
        "      \n",
        "    def getBalance(self): \n",
        "        return self.__getitem__(\"balance\") \n",
        "  \n",
        "    def updateBalance(self, new_balance): \n",
        "          \n",
        "        self.__setitem__(\"balance\", new_balance) \n",
        "        self.__setitem__(\"transaction\", new_balance)     \n",
        "      \n",
        "    def getTransactions(self): \n",
        "        return self.__getitem__(\"transaction\") \n",
        "  \n",
        "    def numTransactions(self): \n",
        "        return len(self.record[\"transaction\"]) \n",
        "  \n",
        "sam = bank_record(\"Sam\") \n",
        "print(\"The balance is : \"+str(sam.getBalance())) \n",
        "  \n",
        "sam.updateBalance(200) \n",
        "print(\"The new balance is : \"+str(sam.getBalance())) \n",
        "print(\"The no. of transactions are: \"+str(sam.numTransactions())) \n",
        "  \n",
        "sam.updateBalance(300) \n",
        "print(\"The new balance is : \"+str(sam.getBalance())) \n",
        "print(\"The no. of transactions are: \"+str(sam.numTransactions())) \n",
        "print(\"The transaction history is: \"+ str(sam.getTransactions())) "
      ],
      "execution_count": 2,
      "outputs": [
        {
          "output_type": "stream",
          "name": "stdout",
          "text": [
            "The balance is : 100\n",
            "The new balance is : 300\n",
            "The no. of transactions are: 2\n",
            "The new balance is : 600\n",
            "The no. of transactions are: 3\n",
            "The transaction history is: [100, 200, 300]\n"
          ]
        }
      ]
    },
    {
      "cell_type": "code",
      "source": [
        ""
      ],
      "metadata": {
        "id": "Hc2YbzAfntaX"
      },
      "execution_count": null,
      "outputs": []
    }
  ]
}